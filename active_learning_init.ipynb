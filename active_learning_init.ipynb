{
 "cells": [
  {
   "cell_type": "markdown",
   "metadata": {},
   "source": [
    "# Active learning Initialization"
   ]
  },
  {
   "cell_type": "code",
   "execution_count": 1,
   "metadata": {},
   "outputs": [
    {
     "data": {
      "text/plain": [
       "'2.3.1'"
      ]
     },
     "execution_count": 1,
     "metadata": {},
     "output_type": "execute_result"
    }
   ],
   "source": [
    "import matplotlib.pyplot as plt\n",
    "import numpy as np\n",
    "import matplotlib.pyplot as plt\n",
    "import tensorflow as tf\n",
    "from scipy.stats import entropy\n",
    "from tensorflow.keras.layers import Conv2D, MaxPooling2D, Dropout, Flatten, Dense, Input\n",
    "from tensorflow.keras.models import Sequential\n",
    "tf.__version__"
   ]
  },
  {
   "cell_type": "markdown",
   "metadata": {},
   "source": [
    "## Hyper-parameters"
   ]
  },
  {
   "cell_type": "code",
   "execution_count": 2,
   "metadata": {},
   "outputs": [],
   "source": [
    "EPOCHS = 15\n",
    "NUM_OF_SAMPLING = 100\n",
    "SAMPLE_LOOPS = 25"
   ]
  },
  {
   "cell_type": "markdown",
   "metadata": {},
   "source": [
    "## Dataset"
   ]
  },
  {
   "cell_type": "code",
   "execution_count": 3,
   "metadata": {},
   "outputs": [],
   "source": [
    "(X_train, y_train), (X_test, y_test) = tf.keras.datasets.mnist.load_data()\n",
    "X_train = X_train.reshape(60000, 28, 28, 1).astype('float32') / 255.\n",
    "X_test = X_test.reshape(10000, 28, 28, 1).astype('float32') / 255.\n",
    "y_train = tf.keras.utils.to_categorical(y_train, 10)\n",
    "y_test = tf.keras.utils.to_categorical(y_test, 10)"
   ]
  },
  {
   "cell_type": "markdown",
   "metadata": {},
   "source": [
    "## Model"
   ]
  },
  {
   "cell_type": "code",
   "execution_count": 4,
   "metadata": {},
   "outputs": [],
   "source": [
    "def build_model_light(input_shape = (28, 28, 1)):\n",
    "    # A simple model based off LeNet from https://keras.io/examples/mnist_cnn/\n",
    "    model = tf.keras.Sequential()\n",
    "    model.add(Input(shape=input_shape))\n",
    "    model.add(Conv2D(32, (4, 4), activation='relu'))\n",
    "    model.add(Flatten())\n",
    "    model.add(Dense(64, activation='relu'))\n",
    "    model.add(Dense(10, activation='softmax'))\n",
    "    return model\n"
   ]
  },
  {
   "cell_type": "code",
   "execution_count": 5,
   "metadata": {},
   "outputs": [],
   "source": [
    "def build_model(input_shape = (28, 28, 1)):\n",
    "    model = Sequential()\n",
    "    model.add(Input(shape=input_shape))\n",
    "    model.add(Conv2D(32, (4, 4), activation='relu'))\n",
    "    model.add(Conv2D(32, (4, 4), activation='relu'))\n",
    "    model.add(MaxPooling2D(pool_size=(2, 2)))\n",
    "    model.add(Dropout(0.25))\n",
    "    model.add(Flatten())\n",
    "    model.add(Dense(128, activation='relu'))\n",
    "    model.add(Dropout(0.5))\n",
    "    model.add(Dense(10, activation='softmax'))\n",
    "    return model"
   ]
  },
  {
   "cell_type": "code",
   "execution_count": 6,
   "metadata": {},
   "outputs": [],
   "source": [
    "model = build_model()\n",
    "# classifier = tf.keras.wrappers.scikit_learn.KerasClassifier(model)"
   ]
  },
  {
   "cell_type": "code",
   "execution_count": 7,
   "metadata": {},
   "outputs": [],
   "source": [
    "b = model.get_weights()"
   ]
  },
  {
   "cell_type": "markdown",
   "metadata": {},
   "source": [
    "model.set_weights(b)"
   ]
  },
  {
   "cell_type": "markdown",
   "metadata": {},
   "source": [
    "a = model.get_weights()"
   ]
  },
  {
   "cell_type": "markdown",
   "metadata": {},
   "source": [
    "### initial labelled data"
   ]
  },
  {
   "cell_type": "code",
   "execution_count": 8,
   "metadata": {},
   "outputs": [],
   "source": [
    "def create_init_pool(number_of_samples = 10):\n",
    "    (X_train, y_train), (X_test, y_test) = tf.keras.datasets.mnist.load_data()\n",
    "    X_train = X_train.reshape(60000, 28, 28, 1).astype('float32') / 255.\n",
    "    X_test = X_test.reshape(10000, 28, 28, 1).astype('float32') / 255.\n",
    "    y_train = tf.keras.utils.to_categorical(y_train, 10)\n",
    "    y_test = tf.keras.utils.to_categorical(y_test, 10)\n",
    "    number_of_samples = 10\n",
    "    initial_idx = np.array([],dtype=np.int)\n",
    "    for i in range(10):\n",
    "        idx = np.random.choice(np.where(y_train[:,i]==1)[0], size=number_of_samples, replace=False)\n",
    "        initial_idx = np.concatenate((initial_idx, idx))\n",
    "\n",
    "    X_initial = X_train[initial_idx]\n",
    "    y_initial = y_train[initial_idx]\n",
    "\n",
    "    X_pool = np.delete(X_train, initial_idx, axis=0)\n",
    "    y_pool = np.delete(y_train, initial_idx, axis=0)\n",
    "    return X_train, y_train, X_test, y_test, X_pool, y_pool, X_initial, y_initial\n",
    "X_train, y_train, X_test, y_test, X_pool, y_pool, X_initial, y_initial = create_init_pool(1000)"
   ]
  },
  {
   "cell_type": "markdown",
   "metadata": {},
   "source": [
    "### show data"
   ]
  },
  {
   "cell_type": "code",
   "execution_count": 9,
   "metadata": {},
   "outputs": [
    {
     "data": {
      "image/png": "[encoded data removed]",
      "text/plain": [
       "<Figure size 432x288 with 1 Axes>"
      ]
     },
     "metadata": {
      "needs_background": "light"
     },
     "output_type": "display_data"
    },
    {
     "name": "stdout",
     "output_type": "stream",
     "text": [
      "[1. 0. 0. 0. 0. 0. 0. 0. 0. 0.]\n"
     ]
    },
    {
     "data": {
      "image/png": "[encoded data removed]",
      "text/plain": [
       "<Figure size 432x288 with 1 Axes>"
      ]
     },
     "metadata": {
      "needs_background": "light"
     },
     "output_type": "display_data"
    },
    {
     "name": "stdout",
     "output_type": "stream",
     "text": [
      "[0. 0. 1. 0. 0. 0. 0. 0. 0. 0.]\n"
     ]
    },
    {
     "data": {
      "image/png": "[encoded data removed]",
      "text/plain": [
       "<Figure size 432x288 with 1 Axes>"
      ]
     },
     "metadata": {
      "needs_background": "light"
     },
     "output_type": "display_data"
    },
    {
     "name": "stdout",
     "output_type": "stream",
     "text": [
      "[0. 0. 0. 0. 1. 0. 0. 0. 0. 0.]\n"
     ]
    },
    {
     "data": {
      "image/png": "[encoded data removed]",
      "text/plain": [
       "<Figure size 432x288 with 1 Axes>"
      ]
     },
     "metadata": {
      "needs_background": "light"
     },
     "output_type": "display_data"
    },
    {
     "name": "stdout",
     "output_type": "stream",
     "text": [
      "[0. 0. 0. 0. 0. 0. 1. 0. 0. 0.]\n"
     ]
    },
    {
     "data": {
      "image/png": "[encoded data removed]",
      "text/plain": [
       "<Figure size 432x288 with 1 Axes>"
      ]
     },
     "metadata": {
      "needs_background": "light"
     },
     "output_type": "display_data"
    },
    {
     "name": "stdout",
     "output_type": "stream",
     "text": [
      "[0. 0. 0. 0. 0. 0. 0. 0. 1. 0.]\n"
     ]
    }
   ],
   "source": [
    "for i in range(0,100,20):\n",
    "    plt.imshow(X_initial[i])\n",
    "    plt.show()\n",
    "    print(y_initial[i])"
   ]
  },
  {
   "cell_type": "markdown",
   "metadata": {},
   "source": [
    "### Query Strategies"
   ]
  },
  {
   "cell_type": "code",
   "execution_count": 10,
   "metadata": {},
   "outputs": [],
   "source": [
    "def remove_from_pools(X_pool, y_pool, initial_idx):\n",
    "    X_pool = np.delete(X_pool, initial_idx, axis=0)\n",
    "    y_pool = np.delete(y_pool, initial_idx, axis=0)\n",
    "    return X_pool, y_pool"
   ]
  },
  {
   "cell_type": "code",
   "execution_count": 11,
   "metadata": {},
   "outputs": [],
   "source": [
    "def get_new_samples(X_pool, y_pool, n=100, stratgy=0, model=None):\n",
    "    if stratgy == 0: # uniform\n",
    "        samples = uniform(X_pool, n)\n",
    "        new_x = samples[1]\n",
    "        new_y = y_pool[samples[0]]\n",
    "        X_pool, y_pool = remove_from_pools(X_pool, y_pool, samples[0])\n",
    "        return X_pool, y_pool, new_x, new_y        \n",
    "    \n",
    "    if stratgy == 1: # max_entropy sampling\n",
    "        samples = max_entropy(model, X_pool, n)\n",
    "        new_x = samples[1]\n",
    "        new_y = y_pool[samples[0]]\n",
    "        X_pool, y_pool = remove_from_pools(X_pool, y_pool, samples[0])\n",
    "        return X_pool, y_pool, new_x, new_y    "
   ]
  },
  {
   "cell_type": "code",
   "execution_count": 12,
   "metadata": {},
   "outputs": [],
   "source": [
    "# baseline\n",
    "def uniform(X, n=1):\n",
    "    query_idx = np.random.choice(range(len(X)), size=n, replace=False)\n",
    "    return query_idx, X[query_idx]\n",
    "\n",
    "\n",
    "def max_entropy(model, X, n=1):\n",
    "    y = model.predict(X)\n",
    "    ent = entropy(y.T, base=10)\n",
    "    query_idx = (-ent).argsort()[:n]\n",
    "    return query_idx, X[query_idx]\n",
    "    "
   ]
  },
  {
   "cell_type": "markdown",
   "metadata": {},
   "source": [
    "### Active Learning"
   ]
  },
  {
   "cell_type": "markdown",
   "metadata": {},
   "source": [
    "### uniform sampling"
   ]
  },
  {
   "cell_type": "code",
   "execution_count": 13,
   "metadata": {},
   "outputs": [
    {
     "name": "stdout",
     "output_type": "stream",
     "text": [
      "1875/1875 [==============================] - 13s 7ms/step - loss: 0.9365 - accuracy: 0.7544\n",
      "1875/1875 [==============================] - 8s 4ms/step - loss: 0.6614 - accuracy: 0.8334\n",
      "1875/1875 [==============================] - 9s 5ms/step - loss: 0.5735 - accuracy: 0.8636\n",
      "1875/1875 [==============================] - 8s 4ms/step - loss: 0.5398 - accuracy: 0.8717\n",
      "1875/1875 [==============================] - 8s 4ms/step - loss: 0.5688 - accuracy: 0.8763\n",
      "1875/1875 [==============================] - 8s 4ms/step - loss: 0.5105 - accuracy: 0.8852\n",
      "1875/1875 [==============================] - 8s 4ms/step - loss: 0.4503 - accuracy: 0.8972\n",
      "1875/1875 [==============================] - 8s 4ms/step - loss: 0.4126 - accuracy: 0.9053\n",
      "1875/1875 [==============================] - 9s 5ms/step - loss: 0.4021 - accuracy: 0.9087\n",
      "1875/1875 [==============================] - 9s 5ms/step - loss: 0.3499 - accuracy: 0.9173\n",
      "1875/1875 [==============================] - 8s 4ms/step - loss: 0.3570 - accuracy: 0.9184\n",
      "1875/1875 [==============================] - 8s 4ms/step - loss: 0.3387 - accuracy: 0.9233\n",
      "1875/1875 [==============================] - 8s 4ms/step - loss: 0.3718 - accuracy: 0.9216\n",
      "1875/1875 [==============================] - 9s 5ms/step - loss: 0.3404 - accuracy: 0.9269\n",
      "1875/1875 [==============================] - 9s 5ms/step - loss: 0.3649 - accuracy: 0.9248\n",
      "1875/1875 [==============================] - 9s 5ms/step - loss: 0.3233 - accuracy: 0.9335\n",
      "1875/1875 [==============================] - 9s 5ms/step - loss: 0.2894 - accuracy: 0.9388\n",
      "1875/1875 [==============================] - 7s 4ms/step - loss: 0.3226 - accuracy: 0.9322\n",
      "1875/1875 [==============================] - 7s 4ms/step - loss: 0.2862 - accuracy: 0.9387\n",
      "1875/1875 [==============================] - 8s 4ms/step - loss: 0.3003 - accuracy: 0.9381\n",
      "1875/1875 [==============================] - 7s 4ms/step - loss: 0.2740 - accuracy: 0.9421\n",
      "1875/1875 [==============================] - 7s 4ms/step - loss: 0.2582 - accuracy: 0.9451\n",
      "1875/1875 [==============================] - 7s 4ms/step - loss: 0.2599 - accuracy: 0.9444\n",
      "1875/1875 [==============================] - 7s 4ms/step - loss: 0.2798 - accuracy: 0.9430\n",
      "1875/1875 [==============================] - 9s 5ms/step - loss: 0.2703 - accuracy: 0.9431\n"
     ]
    }
   ],
   "source": [
    "metric_uni = []\n",
    "for i in range(SAMPLE_LOOPS):\n",
    "    model = None\n",
    "    model = build_model_light()\n",
    "    model.compile(optimizer='adam',\n",
    "              loss='categorical_crossentropy',\n",
    "              metrics=['accuracy'])\n",
    "    history = model.fit(x=X_initial, y=y_initial,epochs=EPOCHS, verbose=0)\n",
    "    metric_uni.append(model.evaluate(X_train, y_train))\n",
    "    new_samples = get_new_samples(X_pool, y_pool, n=NUM_OF_SAMPLING)\n",
    "    X_pool, y_pool = new_samples[0], new_samples[1]\n",
    "    X_initial = np.vstack((X_initial,new_samples[2]))\n",
    "    y_initial = np.vstack((y_initial,new_samples[3]))"
   ]
  },
  {
   "cell_type": "markdown",
   "metadata": {},
   "source": [
    "### max entropy sampling"
   ]
  },
  {
   "cell_type": "code",
   "execution_count": 14,
   "metadata": {},
   "outputs": [],
   "source": [
    "X_train, y_train, X_test, y_test, X_pool, y_pool, X_initial, y_initial = create_init_pool(1000)"
   ]
  },
  {
   "cell_type": "code",
   "execution_count": 15,
   "metadata": {},
   "outputs": [
    {
     "name": "stdout",
     "output_type": "stream",
     "text": [
      "1875/1875 [==============================] - 7s 4ms/step - loss: 0.9084 - accuracy: 0.7648\n",
      "1875/1875 [==============================] - 5s 3ms/step - loss: 0.7681 - accuracy: 0.8012\n",
      "1875/1875 [==============================] - 7s 4ms/step - loss: 0.6695 - accuracy: 0.8384\n",
      "1875/1875 [==============================] - 6s 3ms/step - loss: 0.6146 - accuracy: 0.8582\n",
      "1875/1875 [==============================] - 6s 3ms/step - loss: 0.5394 - accuracy: 0.8777\n",
      "1875/1875 [==============================] - 5s 3ms/step - loss: 0.4192 - accuracy: 0.9050\n",
      "1875/1875 [==============================] - 7s 4ms/step - loss: 0.3139 - accuracy: 0.9245\n",
      "1875/1875 [==============================] - 6s 3ms/step - loss: 0.3201 - accuracy: 0.9238\n",
      "1875/1875 [==============================] - 6s 3ms/step - loss: 0.2478 - accuracy: 0.9408\n",
      "1875/1875 [==============================] - 6s 3ms/step - loss: 0.1949 - accuracy: 0.9506\n",
      "1875/1875 [==============================] - 7s 4ms/step - loss: 0.1812 - accuracy: 0.9563\n",
      "1875/1875 [==============================] - 6s 3ms/step - loss: 0.1670 - accuracy: 0.9564\n",
      "1875/1875 [==============================] - 8s 4ms/step - loss: 0.1313 - accuracy: 0.9651\n",
      "1875/1875 [==============================] - 6s 3ms/step - loss: 0.1250 - accuracy: 0.9674\n",
      "1875/1875 [==============================] - 6s 3ms/step - loss: 0.1233 - accuracy: 0.9665\n",
      "1875/1875 [==============================] - 6s 3ms/step - loss: 0.0994 - accuracy: 0.9754\n",
      "1875/1875 [==============================] - 5s 3ms/step - loss: 0.0995 - accuracy: 0.9750\n",
      "1875/1875 [==============================] - 6s 3ms/step - loss: 0.0888 - accuracy: 0.9772\n",
      "1875/1875 [==============================] - 6s 3ms/step - loss: 0.0935 - accuracy: 0.9764\n",
      "1875/1875 [==============================] - 6s 3ms/step - loss: 0.0836 - accuracy: 0.9791\n",
      "1875/1875 [==============================] - 6s 3ms/step - loss: 0.0737 - accuracy: 0.9813\n",
      "1875/1875 [==============================] - 5s 3ms/step - loss: 0.0719 - accuracy: 0.9825\n",
      "1875/1875 [==============================] - 6s 3ms/step - loss: 0.0696 - accuracy: 0.9832\n",
      "1875/1875 [==============================] - 7s 4ms/step - loss: 0.0609 - accuracy: 0.9861\n",
      "1875/1875 [==============================] - 6s 3ms/step - loss: 0.0577 - accuracy: 0.9866\n"
     ]
    }
   ],
   "source": [
    "metric_max_ent = []\n",
    "for i in range(SAMPLE_LOOPS):\n",
    "    model = None\n",
    "    model = build_model_light()\n",
    "    model.compile(optimizer='adam',\n",
    "              loss='categorical_crossentropy',\n",
    "              metrics=['accuracy'])\n",
    "    history = model.fit(x=X_initial, y=y_initial,epochs=EPOCHS, verbose=0)\n",
    "    metric_max_ent.append(model.evaluate(X_train, y_train))\n",
    "    new_samples = get_new_samples(X_pool, y_pool, n=NUM_OF_SAMPLING, stratgy=1, model=model)\n",
    "    X_pool, y_pool = new_samples[0], new_samples[1]\n",
    "    X_initial = np.vstack((X_initial,new_samples[2]))\n",
    "    y_initial = np.vstack((y_initial,new_samples[3]))"
   ]
  },
  {
   "cell_type": "markdown",
   "metadata": {},
   "source": [
    "### init max entropy sampling"
   ]
  },
  {
   "cell_type": "code",
   "execution_count": 16,
   "metadata": {},
   "outputs": [],
   "source": [
    "X_train, y_train, X_test, y_test, X_pool, y_pool, X_initial, y_initial = create_init_pool(1000)"
   ]
  },
  {
   "cell_type": "code",
   "execution_count": 17,
   "metadata": {},
   "outputs": [
    {
     "name": "stdout",
     "output_type": "stream",
     "text": [
      "1875/1875 [==============================] - 6s 3ms/step - loss: 1.0786 - accuracy: 0.7356\n",
      "1875/1875 [==============================] - 6s 3ms/step - loss: 0.8878 - accuracy: 0.7922\n",
      "1875/1875 [==============================] - 5s 3ms/step - loss: 0.8339 - accuracy: 0.8048\n",
      "1875/1875 [==============================] - 5s 3ms/step - loss: 0.6751 - accuracy: 0.8422\n",
      "1875/1875 [==============================] - 6s 3ms/step - loss: 0.5493 - accuracy: 0.8730\n",
      "1875/1875 [==============================] - 7s 4ms/step - loss: 0.4524 - accuracy: 0.8888\n",
      "1875/1875 [==============================] - 7s 4ms/step - loss: 0.3655 - accuracy: 0.9129\n",
      "1875/1875 [==============================] - 7s 4ms/step - loss: 0.3080 - accuracy: 0.9273\n",
      "1875/1875 [==============================] - 7s 3ms/step - loss: 0.2830 - accuracy: 0.9313\n",
      "1875/1875 [==============================] - 6s 3ms/step - loss: 0.2273 - accuracy: 0.9429\n",
      "1875/1875 [==============================] - 6s 3ms/step - loss: 0.2046 - accuracy: 0.9499\n",
      "1875/1875 [==============================] - 6s 3ms/step - loss: 0.1853 - accuracy: 0.9532\n",
      "1875/1875 [==============================] - 6s 3ms/step - loss: 0.1672 - accuracy: 0.9572\n",
      "1875/1875 [==============================] - 6s 3ms/step - loss: 0.1410 - accuracy: 0.9648\n",
      "1875/1875 [==============================] - 5s 3ms/step - loss: 0.1234 - accuracy: 0.9693\n",
      "1875/1875 [==============================] - 7s 3ms/step - loss: 0.1134 - accuracy: 0.9707\n",
      "1875/1875 [==============================] - 6s 3ms/step - loss: 0.1090 - accuracy: 0.9735\n",
      "1875/1875 [==============================] - 7s 4ms/step - loss: 0.0938 - accuracy: 0.9760\n",
      "1875/1875 [==============================] - 5s 3ms/step - loss: 0.0914 - accuracy: 0.9772\n",
      "1875/1875 [==============================] - 5s 3ms/step - loss: 0.0825 - accuracy: 0.9801\n",
      "1875/1875 [==============================] - 6s 3ms/step - loss: 0.0839 - accuracy: 0.9796\n",
      "1875/1875 [==============================] - 6s 3ms/step - loss: 0.0756 - accuracy: 0.9815\n",
      "1875/1875 [==============================] - 6s 3ms/step - loss: 0.0691 - accuracy: 0.9838\n",
      "1875/1875 [==============================] - 6s 3ms/step - loss: 0.0674 - accuracy: 0.9839\n",
      "1875/1875 [==============================] - 6s 3ms/step - loss: 0.0591 - accuracy: 0.9855\n"
     ]
    }
   ],
   "source": [
    "metric_init_max_ent = []\n",
    "for i in range(SAMPLE_LOOPS):\n",
    "    model = None\n",
    "    model = build_model_light()\n",
    "    if i == 0:\n",
    "        wnb = model.get_weights()\n",
    "    else:\n",
    "        model.set_weights(wnb)\n",
    "    model.compile(optimizer='adam',\n",
    "              loss='categorical_crossentropy',\n",
    "              metrics=['accuracy'])\n",
    "    history = model.fit(x=X_initial, y=y_initial,epochs=EPOCHS, verbose=0)\n",
    "    metric_init_max_ent.append(model.evaluate(X_train, y_train))\n",
    "    new_samples = get_new_samples(X_pool, y_pool, n=NUM_OF_SAMPLING, stratgy=1, model=model)\n",
    "    X_pool, y_pool = new_samples[0], new_samples[1]\n",
    "    X_initial = np.vstack((X_initial,new_samples[2]))\n",
    "    y_initial = np.vstack((y_initial,new_samples[3]))"
   ]
  },
  {
   "cell_type": "code",
   "execution_count": 18,
   "metadata": {},
   "outputs": [
    {
     "data": {
      "text/plain": [
       "<matplotlib.legend.Legend at 0x24ceb2d8cd0>"
      ]
     },
     "execution_count": 18,
     "metadata": {},
     "output_type": "execute_result"
    },
    {
     "data": {
      "image/png": "[encoded data removed]",
      "text/plain": [
       "<Figure size 432x288 with 1 Axes>"
      ]
     },
     "metadata": {
      "needs_background": "light"
     },
     "output_type": "display_data"
    }
   ],
   "source": [
    "x = range(NUM_OF_SAMPLING,NUM_OF_SAMPLING + NUM_OF_SAMPLING*SAMPLE_LOOPS,NUM_OF_SAMPLING)\n",
    "metric_uni_np = np.array(metric_uni)\n",
    "acc_uni = metric_uni_np[:,1]\n",
    "plt.plot(x, acc_uni)\n",
    "\n",
    "metric_max_ent_np = np.array(metric_max_ent)\n",
    "acc_max_ent = metric_max_ent_np[:,1]\n",
    "plt.plot(x, acc_max_ent)\n",
    "\n",
    "metric_init_max_ent_np = np.array(metric_init_max_ent)\n",
    "acc_init_max_ent = metric_init_max_ent_np[:,1]\n",
    "plt.plot(x, acc_init_max_ent)\n",
    "\n",
    "plt.title('model accuracy')\n",
    "plt.ylabel('accuracy')\n",
    "plt.xlabel('number of samples')\n",
    "plt.legend(['uniform sampling', 'max entropy sampling', 'init max entropy sampling'], loc='upper left')"
   ]
  },
  {
   "cell_type": "code",
   "execution_count": null,
   "metadata": {},
   "outputs": [],
   "source": []
  }
 ],
 "metadata": {
  "kernelspec": {
   "display_name": "Python 3",
   "language": "python",
   "name": "python3"
  },
  "language_info": {
   "codemirror_mode": {
    "name": "ipython",
    "version": 3
   },
   "file_extension": ".py",
   "mimetype": "text/x-python",
   "name": "python",
   "nbconvert_exporter": "python",
   "pygments_lexer": "ipython3",
   "version": "3.8.6"
  }
 },
 "nbformat": 4,
 "nbformat_minor": 4
}
